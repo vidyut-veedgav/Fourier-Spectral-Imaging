{
 "cells": [
  {
   "cell_type": "code",
   "execution_count": 60,
   "metadata": {},
   "outputs": [
    {
     "name": "stdout",
     "output_type": "stream",
     "text": [
      "image type: None\n",
      "array shape: (50, 50)\n",
      "Data [[157 165 160 ... 144 153 157]\n",
      " [158 165 161 ... 160 166 162]\n",
      " [159 164 164 ... 165 168 161]\n",
      " ...\n",
      " [142 133 139 ... 159 159 168]\n",
      " [137 130 138 ... 157 158 160]\n",
      " [141 142 138 ... 162 159 157]]\n"
     ]
    }
   ],
   "source": [
    "from PIL import Image\n",
    "import numpy as np\n",
    "import networkx as nx\n",
    "\n",
    "\"\"\"\n",
    "CREATING THE PIXEL GRAPH AND DEFINING SIGNALS AS SIMILARITY TO ADJACENT NODES\n",
    "\"\"\"\n",
    "\n",
    "image_path = 'assets/pomeranian.jpg'\n",
    "resized_image_path = 'assets/resized_pomeraniam.jpg'\n",
    "\n",
    "# loading the image\n",
    "image = Image.open(image_path).convert('L')\n",
    "low_res_image = image.resize((50, 50))  # Resize to 128x128 pixels\n",
    "low_res_image.save(resized_image_path)\n",
    "print(\"image type:\", image.format)\n",
    "\n",
    "# converting to array\n",
    "data = np.asarray(low_res_image, dtype=np.int16)\n",
    "print(\"array shape:\", data.shape)\n",
    "print(\"Data\", data)\n",
    "\n",
    "\n",
    "# creating a graph using pixel intensities\n",
    "G = nx.Graph()\n",
    "\n",
    "def absoluteDifference(curr, data, neighbor_id):\n",
    "    return np.abs(curr - data[neighbor_id[0]][neighbor_id[1]])\n",
    "\n",
    "for i in range(data.shape[0]):\n",
    "    for j in range(data.shape[1]):\n",
    "        curr = data[i][j]\n",
    "        curr_id = (i, j)\n",
    "        # up\n",
    "        if i > 0:\n",
    "            up_id = (i - 1, j)\n",
    "            w = absoluteDifference(curr, data, up_id)\n",
    "            G.add_edge(curr_id, up_id, weight=w)\n",
    "        # down\n",
    "        if i < data.shape[0] - 1:\n",
    "            down_id = (i + 1, j)\n",
    "            w = absoluteDifference(curr, data, down_id)\n",
    "            G.add_edge(curr_id, down_id, weight=w)\n",
    "        # left\n",
    "        if j > 0:\n",
    "            left_id = (i, j - 1)\n",
    "            w = absoluteDifference(curr, data, left_id)\n",
    "            G.add_edge(curr_id, left_id, weight=w)\n",
    "        # right\n",
    "        if j > data.shape[1] - 1:\n",
    "            right_id = (i, j + 1)\n",
    "            w = absoluteDifference(curr, data, right_id)\n",
    "            G.add_edge(curr_id, right_id, weight=w)  "
   ]
  },
  {
   "cell_type": "code",
   "execution_count": 56,
   "metadata": {},
   "outputs": [
    {
     "name": "stdout",
     "output_type": "stream",
     "text": [
      "Laplacian shape (2500, 2500)\n",
      "Eigenvalues shape: (2500,)\n",
      "Eigenvectors shape: (2500, 2500)\n"
     ]
    }
   ],
   "source": [
    "\"\"\"\n",
    "CONSTRUCTING THE GRAPH LAPLACIAN AND COMPUTING EIGENVALUES/EIGENVECTORS \n",
    "\"\"\"\n",
    "import scipy.linalg as splin\n",
    "\n",
    "# constructing the graph laplacian L = D - A\n",
    "L = nx.linalg.normalized_laplacian_matrix(G)\n",
    "L_dense = L.toarray()\n",
    "ews, evs = splin.eigh(L_dense)\n",
    "print(\"Laplacian shape\", L.shape)\n",
    "print(\"Eigenvalues shape:\", ews.shape)\n",
    "print(\"Eigenvectors shape:\", evs.shape)"
   ]
  },
  {
   "cell_type": "code",
   "execution_count": 57,
   "metadata": {},
   "outputs": [
    {
     "name": "stdout",
     "output_type": "stream",
     "text": [
      "eigenvector matrix: (2500, 2500)\n",
      "X: (2500,)\n",
      "X (spectral): (2500,)\n",
      "[-5.72499595e+03 -3.37146640e+02 -1.41211840e+03 ...  1.59255078e+01\n",
      "  8.91154023e-01 -2.02069076e+01]\n"
     ]
    }
   ],
   "source": [
    "\"\"\"\n",
    "TRANSFORMING GRAPH SIGNALS INTO THE SPECTRAL DOMAIN\n",
    "\"\"\"\n",
    "X = data.flatten()\n",
    "print(\"eigenvector matrix:\", evs.shape)\n",
    "print(\"X:\", X.shape)\n",
    "\n",
    "X_spectral = evs.transpose().dot(X)\n",
    "print(\"X (spectral):\", X_spectral.shape)\n",
    "\n",
    "print(X_spectral)"
   ]
  },
  {
   "cell_type": "code",
   "execution_count": 58,
   "metadata": {},
   "outputs": [
    {
     "name": "stdout",
     "output_type": "stream",
     "text": [
      "X (filtered-spatial): (2500,)\n",
      "Filtered Image): (50, 50)\n"
     ]
    }
   ],
   "source": [
    "\"\"\"\n",
    "APPLYING A HIGH PASS GRAPH FILTER ONTO THE IMAGE AND INVERTING THE GFT\n",
    "\"\"\"\n",
    "tau = 0.005\n",
    "H = np.diag(np.where(ews > tau, 1, 0))\n",
    "X_filtered_spectral = H @ X_spectral\n",
    "\n",
    "# Transforming the filtered signal back to the spacial domain\n",
    "X_filtered_spatial = evs @ X_filtered_spectral\n",
    "filtered_image = X_filtered_spatial.reshape(data.shape)\n",
    "\n",
    "print(\"X (filtered-spatial):\", X_filtered_spatial.shape)\n",
    "print(\"Filtered Image):\", filtered_image.shape)\n"
   ]
  },
  {
   "cell_type": "code",
   "execution_count": 59,
   "metadata": {},
   "outputs": [],
   "source": [
    "\"\"\"\n",
    "SAVING THE FILTERED IMAGE\n",
    "\"\"\"\n",
    "filtered_image_pil = Image.fromarray(filtered_image.astype(np.uint8))  # convert to PIL image\n",
    "filtered_image_pil.save('assets/filtered_pomeranian.jpg')"
   ]
  }
 ],
 "metadata": {
  "kernelspec": {
   "display_name": "venv",
   "language": "python",
   "name": "python3"
  },
  "language_info": {
   "codemirror_mode": {
    "name": "ipython",
    "version": 3
   },
   "file_extension": ".py",
   "mimetype": "text/x-python",
   "name": "python",
   "nbconvert_exporter": "python",
   "pygments_lexer": "ipython3",
   "version": "3.13.0"
  }
 },
 "nbformat": 4,
 "nbformat_minor": 2
}
